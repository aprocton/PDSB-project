{
 "cells": [
  {
   "cell_type": "code",
   "execution_count": 1,
   "metadata": {},
   "outputs": [
    {
     "ename": "TabError",
     "evalue": "inconsistent use of tabs and spaces in indentation (seq2net.py, line 20)",
     "output_type": "error",
     "traceback": [
      "Traceback \u001b[1;36m(most recent call last)\u001b[0m:\n",
      "  File \u001b[0;32m\"C:\\Users\\Alex\\Miniconda3\\lib\\site-packages\\IPython\\core\\interactiveshell.py\"\u001b[0m, line \u001b[0;32m2910\u001b[0m, in \u001b[0;35mrun_code\u001b[0m\n    exec(code_obj, self.user_global_ns, self.user_ns)\n",
      "  File \u001b[0;32m\"<ipython-input-1-3f70497cbd5b>\"\u001b[0m, line \u001b[0;32m1\u001b[0m, in \u001b[0;35m<module>\u001b[0m\n    import seq2net\n",
      "\u001b[1;36m  File \u001b[1;32m\"c:\\users\\alex\\pdsb\\pdsb-project\\project\\seq2net\\__init__.py\"\u001b[1;36m, line \u001b[1;32m1\u001b[1;36m, in \u001b[1;35m<module>\u001b[1;36m\u001b[0m\n\u001b[1;33m    from .seq2net import *\u001b[0m\n",
      "\u001b[1;36m  File \u001b[1;32m\"c:\\users\\alex\\pdsb\\pdsb-project\\project\\seq2net\\seq2net.py\"\u001b[1;36m, line \u001b[1;32m20\u001b[0m\n\u001b[1;33m    self.data = data\u001b[0m\n\u001b[1;37m                    ^\u001b[0m\n\u001b[1;31mTabError\u001b[0m\u001b[1;31m:\u001b[0m inconsistent use of tabs and spaces in indentation\n"
     ]
    }
   ],
   "source": [
    "import seq2net\n",
    "import numpy as np\n",
    "import pandas as pd\n",
    "import os"
   ]
  },
  {
   "cell_type": "code",
   "execution_count": 17,
   "metadata": {},
   "outputs": [
    {
     "name": "stdout",
     "output_type": "stream",
     "text": [
      "subj,date,beeps,activity,gm,gmd_by,sitco,partner\n",
      "ID1,1/1/2015,12,M,NA,NA,NA,NA\n",
      "ID1,1/1/2015,2,ssitco,NA,NA,ID20,ID20\n",
      "ID1,1/1/2015,1,gmd/sitco,NA,ID17,ID20,\"ID17, ID20\"\n",
      "ID1,1/1/2015,3,gmd/sitco,NA,ID17,ID20,\"ID17, ID20\"\n",
      "ID1,1/1/2015,2,gmd/sitco,NA,\"ID17, ID14\",ID20,\"ID17, ID14, ID20\"\n",
      "ID1,1/1/2015,3,g\n"
     ]
    }
   ],
   "source": [
    "curdir = os.path.dirname(os.path.abspath('.'))\n",
    "path = os.path.join(curdir, \"data\", \"Cmitis2015.csv\")\n",
    "\n",
    "# import data from CSV\n",
    "with open(path, 'r') as infile:\n",
    "    data = infile.read()\n",
    "    \n",
    "print(data[:300])"
   ]
  },
  {
   "cell_type": "code",
   "execution_count": 12,
   "metadata": {},
   "outputs": [
    {
     "data": {
      "text/plain": [
       "'C:\\\\Users\\\\Alex\\\\PDSB\\\\PDSB-project'"
      ]
     },
     "execution_count": 12,
     "metadata": {},
     "output_type": "execute_result"
    }
   ],
   "source": []
  }
 ],
 "metadata": {
  "kernelspec": {
   "display_name": "Python 3",
   "language": "python",
   "name": "python3"
  },
  "language_info": {
   "codemirror_mode": {
    "name": "ipython",
    "version": 3
   },
   "file_extension": ".py",
   "mimetype": "text/x-python",
   "name": "python",
   "nbconvert_exporter": "python",
   "pygments_lexer": "ipython3",
   "version": "3.6.3"
  }
 },
 "nbformat": 4,
 "nbformat_minor": 2
}
